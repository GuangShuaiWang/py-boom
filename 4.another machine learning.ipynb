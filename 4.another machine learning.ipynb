{
 "cells": [
  {
   "cell_type": "markdown",
   "id": "417128bf",
   "metadata": {},
   "source": [
    "# Another machine learning\n",
    "在这里想比较一下其他的机器学习的算法，来证明自己模型的表现结果"
   ]
  },
  {
   "cell_type": "markdown",
   "id": "584cc9a4",
   "metadata": {},
   "source": [
    "## 代码理解与总结\n",
    "主要涉及的代码包含 `make_scorer`,`cross_validate`,`fill_between`,`np.linspace`\n",
    "\n",
    "`np.linspace(start,stop,num)`: 构建包含num个数的等差数列\n",
    "\n",
    "`plt.fill_between(x, y1, y2)`:用颜色填充y1和y2这两条曲线之间的区域。\n",
    "\n",
    "`cross_validate(estimator, X, y=None, scoring=None, cv=None, n_jobs=None, verbose=0)`: sklearn库中用于模型的交叉验证的工具，estimator是具有fit属性的预测其，X，Y分别是训练数据与标签，CV是进行判断的次数，n_jobs只的是使用的核数，verbose指的是信息输出的多少。"
   ]
  },
  {
   "cell_type": "markdown",
   "id": "7b959a39",
   "metadata": {},
   "source": [
    "## 总结：\n",
    "\n",
    "第一次：使用的全部都是回归模型，然后模型的判断标准为MSE，而我们的问题应该为分类模型，评价标准也应该相对应的修改，选择了ROC。"
   ]
  },
  {
   "cell_type": "code",
   "execution_count": 1,
   "id": "89b344b6",
   "metadata": {},
   "outputs": [],
   "source": [
    "import pandas as pd\n",
    "import numpy as np\n",
    "from sklearn.ensemble import RandomForestClassifier\n",
    "from sklearn.ensemble import AdaBoostClassifier\n",
    "from sklearn.metrics import precision_recall_curve,roc_curve,auc,confusion_matrix\n",
    "import matplotlib.pyplot as plt\n",
    "from sklearn.metrics import roc_curve,auc\n",
    "from sklearn.model_selection import KFold"
   ]
  },
  {
   "cell_type": "code",
   "execution_count": 31,
   "id": "15fb1987",
   "metadata": {},
   "outputs": [],
   "source": [
    "from sklearn.metrics import roc_auc_score,make_scorer #制作评价标准\n",
    "scorer = make_scorer(roc_auc_score)\n",
    "def evaluate(estimator,test_X,test_Y):\n",
    "        pred = estimator.predict(test_X)\n",
    "        result = roc_auc_score(test_Y,pred)\n",
    "        return result"
   ]
  },
  {
   "cell_type": "code",
   "execution_count": 3,
   "id": "f99bda8e",
   "metadata": {},
   "outputs": [],
   "source": [
    "import pandas as pd\n",
    "import numpy as np\n",
    "\n",
    "Blosum62_matrix = pd.read_csv(\"/Users/wangguangshuai/Data/MHCII/Data/another_machine_learning/BLOSUM62.csv\",comment=\"#\")\n",
    "Protein_alphabet = list(\"ARNDCQEGHILKMFPSTWYVX\")\n",
    "Blosum62_matrix = Blosum62_matrix[Protein_alphabet]\n",
    "Blosum62_matrix = Blosum62_matrix.loc[Protein_alphabet]\n",
    "Blosum62_matrix\n",
    "\n",
    "def blosum62(peptide,maxlen):\n",
    "    encoder = np.empty((maxlen,21))\n",
    "    if len(peptide) <=maxlen:\n",
    "        peptide = peptide + \"X\"*(maxlen-len(peptide))\n",
    "    for i in range(len(peptide)):\n",
    "        pep = list(peptide)[i]\n",
    "        coder = Blosum62_matrix[pep]\n",
    "        encoder[i] = coder\n",
    "    return encoder.flatten()"
   ]
  },
  {
   "cell_type": "code",
   "execution_count": 48,
   "id": "695e789d",
   "metadata": {},
   "outputs": [],
   "source": [
    "def method(estimator):\n",
    "    kf = KFold(n_splits=5)\n",
    "    fold_indices = list(kf.split(np.arange(X.shape[0])))\n",
    "    holding = {'validation': [], 'IEDB': []}\n",
    "    for fold in fold_indices:\n",
    "        # split\n",
    "        train_X, train_Y, test_X, test_Y = X[fold[0]], np.array(Y)[fold[0]], X[fold[1]], np.array(Y)[fold[1]]\n",
    "        # train\n",
    "        estimator.fit(train_X, train_Y)\n",
    "        # test in validation set\n",
    "        result_validation = evaluate(estimator, test_X, test_Y)\n",
    "        holding['validation'].append(result_validation)\n",
    "        # test in IEDB\n",
    "        AUC = evaluate(estimator, IEDB_X, IEDB_Y)\n",
    "        holding['IEDB'].append(AUC)\n",
    "    return holding"
   ]
  },
  {
   "cell_type": "markdown",
   "id": "ae0b4da0",
   "metadata": {},
   "source": [
    "## Data process\n",
    "数据要处理成符合使用的格式"
   ]
  },
  {
   "cell_type": "code",
   "execution_count": 6,
   "id": "674a5156",
   "metadata": {},
   "outputs": [],
   "source": [
    "#数据处理的过程；\n",
    "# X = np.empty((len(dataset), 12 * 56))  # 28581\n",
    "#     Y = ori['immunogenicity'].values\n",
    "#     for i, (x, y, _) in enumerate(dataset):\n",
    "#         x = x.reshape(-1)  # 10*12*1 ---> 120\n",
    "#         y = y.reshape(-1)  # 46*12*1 ---> 552\n",
    "#         X[i, :] = np.concatenate([x, y])  #\n",
    "#即将每一个的peptide与HLA信息连在了一起"
   ]
  },
  {
   "cell_type": "code",
   "execution_count": 7,
   "id": "5fc59ea2",
   "metadata": {},
   "outputs": [],
   "source": [
    "immuno_data = pd.read_csv(\"/Users/wangguangshuai/Data/MHCII/Data/another_machine_learning/IMM_data_random2.csv\")\n",
    "immuno_data[\"pep_blosum\"] = immuno_data[\"Description\"].apply(blosum62,args=(21,))\n",
    "immuno_data[\"MHC_blosum\"] = immuno_data[\"sequence\"].apply(blosum62,args=(34,))"
   ]
  },
  {
   "cell_type": "code",
   "execution_count": 8,
   "id": "3308359a",
   "metadata": {},
   "outputs": [],
   "source": [
    "X = np.empty((len(immuno_data),1155))\n",
    "for i in range(len(immuno_data)):\n",
    "    x = immuno_data.iloc[i,6]\n",
    "    y = immuno_data.iloc[i,7]\n",
    "    X[i, :] = np.concatenate((x,y))\n",
    "Y = immuno_data[\"label\"].values"
   ]
  },
  {
   "cell_type": "code",
   "execution_count": 9,
   "id": "92e03511",
   "metadata": {},
   "outputs": [],
   "source": [
    "IEDB_benchmark = pd.read_csv(\"/Users/wangguangshuai/Data/MHCII/Data/another_machine_learning/IEDB_benchmark_with_random.csv\")\n",
    "IEDB_benchmark[\"pep_blosum\"] = IEDB_benchmark[\"Description\"].apply(blosum62,args=(21,))\n",
    "IEDB_benchmark[\"MHC_blosum\"] = IEDB_benchmark[\"sequence\"].apply(blosum62,args=(34,))"
   ]
  },
  {
   "cell_type": "code",
   "execution_count": 10,
   "id": "0f5f7360",
   "metadata": {},
   "outputs": [],
   "source": [
    "IEDB_X = np.empty((len(IEDB_benchmark),1155))\n",
    "for i in range(len(IEDB_benchmark)):\n",
    "    x = IEDB_benchmark.iloc[i,7]\n",
    "    y = IEDB_benchmark.iloc[i,8]\n",
    "    X[i, :] = np.concatenate((x,y))\n",
    "IEDB_Y = IEDB_benchmark[\"label\"].values"
   ]
  },
  {
   "cell_type": "code",
   "execution_count": 11,
   "id": "24fd5d05",
   "metadata": {},
   "outputs": [],
   "source": [
    "holder = {}"
   ]
  },
  {
   "cell_type": "markdown",
   "id": "119a3ff1",
   "metadata": {},
   "source": [
    "## ada boost Classifier\n",
    "首先第一个是 ada boost Classifier"
   ]
  },
  {
   "cell_type": "code",
   "execution_count": 29,
   "id": "faab4165",
   "metadata": {},
   "outputs": [],
   "source": [
    "from sklearn.model_selection import cross_validate\n",
    "from sklearn.ensemble import AdaBoostClassifier"
   ]
  },
  {
   "cell_type": "markdown",
   "id": "464390e4",
   "metadata": {},
   "source": [
    "cross_validate用于进行交叉验证，最重要的是需要一个具有fit属性的estimator，X时训练数据，Y是目标值，cv是交叉验证次数，scoring是进行评判的标准，n_jobs是并行的核数，verbose是信息出现的多少"
   ]
  },
  {
   "cell_type": "code",
   "execution_count": 39,
   "id": "273ca031",
   "metadata": {
    "scrolled": false
   },
   "outputs": [
    {
     "name": "stderr",
     "output_type": "stream",
     "text": [
      "[Parallel(n_jobs=-1)]: Using backend LokyBackend with 8 concurrent workers.\n",
      "[Parallel(n_jobs=-1)]: Done   3 out of   3 | elapsed:    5.3s remaining:    0.0s\n",
      "[Parallel(n_jobs=-1)]: Done   3 out of   3 | elapsed:    5.3s finished\n",
      "[Parallel(n_jobs=-1)]: Using backend LokyBackend with 8 concurrent workers.\n",
      "[Parallel(n_jobs=-1)]: Done   3 out of   3 | elapsed:   16.5s remaining:    0.0s\n",
      "[Parallel(n_jobs=-1)]: Done   3 out of   3 | elapsed:   16.5s finished\n",
      "[Parallel(n_jobs=-1)]: Using backend LokyBackend with 8 concurrent workers.\n",
      "[Parallel(n_jobs=-1)]: Done   3 out of   3 | elapsed:   25.1s remaining:    0.0s\n",
      "[Parallel(n_jobs=-1)]: Done   3 out of   3 | elapsed:   25.1s finished\n",
      "[Parallel(n_jobs=-1)]: Using backend LokyBackend with 8 concurrent workers.\n"
     ]
    },
    {
     "name": "stdout",
     "output_type": "stream",
     "text": [
      "[CV] END ......................................., score=0.490 total time=   4.8s\n",
      "[CV] END ......................................., score=0.531 total time=  23.4s\n",
      "[CV] END ......................................., score=0.547 total time=  41.9s\n"
     ]
    },
    {
     "name": "stderr",
     "output_type": "stream",
     "text": [
      "[Parallel(n_jobs=-1)]: Done   3 out of   3 | elapsed:   32.6s remaining:    0.0s\n",
      "[Parallel(n_jobs=-1)]: Done   3 out of   3 | elapsed:   32.6s finished\n",
      "[Parallel(n_jobs=-1)]: Using backend LokyBackend with 8 concurrent workers.\n",
      "[Parallel(n_jobs=-1)]: Done   3 out of   3 | elapsed:   44.9s remaining:    0.0s\n",
      "[Parallel(n_jobs=-1)]: Done   3 out of   3 | elapsed:   44.9s finished\n",
      "[Parallel(n_jobs=-1)]: Using backend LokyBackend with 8 concurrent workers.\n",
      "[Parallel(n_jobs=-1)]: Done   3 out of   3 | elapsed:   53.4s remaining:    0.0s\n",
      "[Parallel(n_jobs=-1)]: Done   3 out of   3 | elapsed:   53.4s finished\n"
     ]
    },
    {
     "data": {
      "text/plain": [
       "[Text(0, 0, '20.00'),\n",
       " Text(1, 0, '60.00'),\n",
       " Text(2, 0, '100.00'),\n",
       " Text(3, 0, '140.00'),\n",
       " Text(4, 0, '180.00'),\n",
       " Text(5, 0, '220.00')]"
      ]
     },
     "execution_count": 39,
     "metadata": {},
     "output_type": "execute_result"
    },
    {
     "data": {
      "image/png": "[encoded data removed]",
      "text/plain": [
       "<Figure size 432x288 with 1 Axes>"
      ]
     },
     "metadata": {
      "needs_background": "light"
     },
     "output_type": "display_data"
    }
   ],
   "source": [
    "cv_results = []\n",
    "space = np.linspace(20, 220, 6) #这里应该是通过交叉验证，选择最好的n_estimators，寻找最优的参数\n",
    "for i in space:\n",
    "    cv_result = cross_validate(AdaBoostClassifier(n_estimators=int(i)), X, Y, cv=3, scoring=scorer, n_jobs=-1,\n",
    "                               verbose=5)\n",
    "    cv_results.append(cv_result)\n",
    "\n",
    "y1 = [item['test_score'].mean() for item in cv_results] #列表表达式\n",
    "y1_e = [item['test_score'].std() for item in cv_results]\n",
    "\n",
    "ax1 = plt.subplot(1, 1, 1)\n",
    "ax1.plot(np.arange(len(space)), y1, marker='o', markersize=5) #每次交叉验证的平均值\n",
    "ax1.fill_between(np.arange(len(space)), [y1[i] - y1_e[i] for i in range(len(space))],\n",
    "                 [y1[i] + y1_e[i] for i in range(len(space))], alpha=0.2) #加上与减去std来绘制区域\n",
    "ax1.set_xticks(np.arange(len(space)))\n",
    "ax1.set_xticklabels(['{0:.2f}'.format(i) for i in space])"
   ]
  },
  {
   "cell_type": "code",
   "execution_count": 40,
   "id": "3462744b",
   "metadata": {
    "scrolled": true
   },
   "outputs": [
    {
     "name": "stdout",
     "output_type": "stream",
     "text": [
      "[CV] END ......................................., score=0.520 total time=  33.4s\n",
      "[CV] END ......................................., score=0.511 total time=  41.0s\n",
      "[CV] END ......................................., score=0.526 total time=  16.1s\n",
      "[CV] END ......................................., score=0.505 total time=  24.4s\n"
     ]
    }
   ],
   "source": [
    "estimator = AdaBoostClassifier(n_estimators=180)\n",
    "holder['adaboost'] = method(estimator = estimator)"
   ]
  },
  {
   "cell_type": "code",
   "execution_count": 41,
   "id": "246dbb01",
   "metadata": {},
   "outputs": [
    {
     "data": {
      "text/plain": [
       "{'adaboost': {'validation': [0.5361302962877219,\n",
       "   0.5937632182873599,\n",
       "   0.5731677196975614,\n",
       "   0.5361175296199031,\n",
       "   0.5680365686944634],\n",
       "  'IEDB': [0.5, 0.5, 0.5, 0.5, 0.5]}}"
      ]
     },
     "execution_count": 41,
     "metadata": {},
     "output_type": "execute_result"
    }
   ],
   "source": [
    "holder"
   ]
  },
  {
   "cell_type": "markdown",
   "id": "e60330ec",
   "metadata": {},
   "source": [
    "## ElasticNet"
   ]
  },
  {
   "cell_type": "code",
   "execution_count": 42,
   "id": "8b9536f9",
   "metadata": {},
   "outputs": [
    {
     "name": "stderr",
     "output_type": "stream",
     "text": [
      "[Parallel(n_jobs=-1)]: Using backend LokyBackend with 8 concurrent workers.\n",
      "/Users/wangguangshuai/miniforge3/lib/python3.9/site-packages/sklearn/linear_model/_coordinate_descent.py:647: ConvergenceWarning: Objective did not converge. You might want to increase the number of iterations, check the scale of the features or consider increasing regularisation. Duality gap: 1.176e+02, tolerance: 2.528e-01\n",
      "  model = cd_fast.enet_coordinate_descent(\n",
      "/Users/wangguangshuai/miniforge3/lib/python3.9/site-packages/sklearn/linear_model/_coordinate_descent.py:647: ConvergenceWarning: Objective did not converge. You might want to increase the number of iterations, check the scale of the features or consider increasing regularisation. Duality gap: 1.459e+02, tolerance: 2.385e-01\n",
      "  model = cd_fast.enet_coordinate_descent(\n",
      "[Parallel(n_jobs=-1)]: Done   2 out of   5 | elapsed:   19.2s remaining:   28.9s\n",
      "/Users/wangguangshuai/miniforge3/lib/python3.9/site-packages/sklearn/linear_model/_coordinate_descent.py:647: ConvergenceWarning: Objective did not converge. You might want to increase the number of iterations, check the scale of the features or consider increasing regularisation. Duality gap: 2.002e+02, tolerance: 2.545e-01\n",
      "  model = cd_fast.enet_coordinate_descent(\n",
      "/Users/wangguangshuai/miniforge3/lib/python3.9/site-packages/sklearn/linear_model/_coordinate_descent.py:647: ConvergenceWarning: Objective did not converge. You might want to increase the number of iterations, check the scale of the features or consider increasing regularisation. Duality gap: 3.602e+02, tolerance: 2.516e-01\n",
      "  model = cd_fast.enet_coordinate_descent(\n",
      "/Users/wangguangshuai/miniforge3/lib/python3.9/site-packages/sklearn/linear_model/_coordinate_descent.py:647: ConvergenceWarning: Objective did not converge. You might want to increase the number of iterations, check the scale of the features or consider increasing regularisation. Duality gap: 4.266e+01, tolerance: 2.526e-01\n",
      "  model = cd_fast.enet_coordinate_descent(\n",
      "[Parallel(n_jobs=-1)]: Done   5 out of   5 | elapsed:   21.7s finished\n",
      "[Parallel(n_jobs=-1)]: Using backend LokyBackend with 8 concurrent workers.\n",
      "[Parallel(n_jobs=-1)]: Done   2 out of   5 | elapsed:    4.9s remaining:    7.3s\n",
      "[Parallel(n_jobs=-1)]: Done   5 out of   5 | elapsed:    9.0s finished\n",
      "[Parallel(n_jobs=-1)]: Using backend LokyBackend with 8 concurrent workers.\n",
      "[Parallel(n_jobs=-1)]: Done   2 out of   5 | elapsed:    2.3s remaining:    3.4s\n",
      "[Parallel(n_jobs=-1)]: Done   5 out of   5 | elapsed:    7.0s finished\n",
      "[Parallel(n_jobs=-1)]: Using backend LokyBackend with 8 concurrent workers.\n",
      "[Parallel(n_jobs=-1)]: Done   2 out of   5 | elapsed:    2.7s remaining:    4.1s\n",
      "[Parallel(n_jobs=-1)]: Done   5 out of   5 | elapsed:    6.1s finished\n",
      "[Parallel(n_jobs=-1)]: Using backend LokyBackend with 8 concurrent workers.\n",
      "[Parallel(n_jobs=-1)]: Done   2 out of   5 | elapsed:    2.4s remaining:    3.5s\n",
      "[Parallel(n_jobs=-1)]: Done   5 out of   5 | elapsed:    4.3s finished\n"
     ]
    },
    {
     "data": {
      "text/plain": [
       "[Text(0, 0, '0.01'),\n",
       " Text(1, 0, '0.26'),\n",
       " Text(2, 0, '0.51'),\n",
       " Text(3, 0, '0.75'),\n",
       " Text(4, 0, '1.00')]"
      ]
     },
     "execution_count": 42,
     "metadata": {},
     "output_type": "execute_result"
    },
    {
     "data": {
      "image/png": "[encoded data removed]",
      "text/plain": [
       "<Figure size 432x288 with 1 Axes>"
      ]
     },
     "metadata": {
      "needs_background": "light"
     },
     "output_type": "display_data"
    }
   ],
   "source": [
    "cv_results = []\n",
    "from sklearn.linear_model import ElasticNet\n",
    "space = np.linspace(0.01,1,5)\n",
    "for i in space:\n",
    "    cv_result = cross_validate(ElasticNet(alpha=0.01,l1_ratio=i),X,Y,cv=5,scoring=scorer,n_jobs=-1,verbose=5)\n",
    "    cv_results.append(cv_result)\n",
    "y1 = [item['test_score'].mean() for item in cv_results]\n",
    "y1_e = [item['test_score'].std() for item in cv_results]\n",
    "ax1 = plt.subplot(1,1,1)\n",
    "ax1.plot(np.arange(len(space)),y1,marker='o',markersize=5)\n",
    "ax1.fill_between(np.arange(len(space)),[y1[i]-y1_e[i] for i in range(len(space))],[y1[i]+y1_e[i] for i in range(len(space))],alpha=0.2)\n",
    "ax1.set_xticks(np.arange(len(space)))\n",
    "ax1.set_xticklabels(['{0:.2f}'.format(i) for i in space])"
   ]
  },
  {
   "cell_type": "code",
   "execution_count": 43,
   "id": "d79e81ff",
   "metadata": {},
   "outputs": [],
   "source": [
    "estimator = ElasticNet(alpha=0.01, l1_ratio=0.26)\n",
    "holder['ElasticNet'] = method(estimator = estimator)"
   ]
  },
  {
   "cell_type": "code",
   "execution_count": 44,
   "id": "e96d8284",
   "metadata": {},
   "outputs": [
    {
     "data": {
      "text/plain": [
       "{'adaboost': {'validation': [0.5361302962877219,\n",
       "   0.5937632182873599,\n",
       "   0.5731677196975614,\n",
       "   0.5361175296199031,\n",
       "   0.5680365686944634],\n",
       "  'IEDB': [0.5, 0.5, 0.5, 0.5, 0.5]},\n",
       " 'ElasticNet': {'validation': [0.5705475027831011,\n",
       "   0.6468046618368356,\n",
       "   0.6903246977381691,\n",
       "   0.6567346248768509,\n",
       "   0.7829776144907724],\n",
       "  'IEDB': [0.5, 0.5, 0.5, 0.5, 0.5]}}"
      ]
     },
     "execution_count": 44,
     "metadata": {},
     "output_type": "execute_result"
    }
   ],
   "source": [
    "holder"
   ]
  },
  {
   "cell_type": "markdown",
   "id": "7151fae5",
   "metadata": {},
   "source": [
    "## KNN Classifier\n",
    "超参选择"
   ]
  },
  {
   "cell_type": "code",
   "execution_count": 45,
   "id": "ac7386cb",
   "metadata": {},
   "outputs": [
    {
     "name": "stderr",
     "output_type": "stream",
     "text": [
      "[Parallel(n_jobs=-1)]: Using backend LokyBackend with 8 concurrent workers.\n",
      "[Parallel(n_jobs=-1)]: Done   2 out of   5 | elapsed:    6.7s remaining:   10.0s\n",
      "[Parallel(n_jobs=-1)]: Done   5 out of   5 | elapsed:    6.7s finished\n",
      "[Parallel(n_jobs=-1)]: Using backend LokyBackend with 8 concurrent workers.\n",
      "[Parallel(n_jobs=-1)]: Done   2 out of   5 | elapsed:    5.6s remaining:    8.4s\n",
      "[Parallel(n_jobs=-1)]: Done   5 out of   5 | elapsed:    5.7s finished\n",
      "[Parallel(n_jobs=-1)]: Using backend LokyBackend with 8 concurrent workers.\n",
      "[Parallel(n_jobs=-1)]: Done   2 out of   5 | elapsed:    5.9s remaining:    8.8s\n",
      "[Parallel(n_jobs=-1)]: Done   5 out of   5 | elapsed:    5.9s finished\n",
      "[Parallel(n_jobs=-1)]: Using backend LokyBackend with 8 concurrent workers.\n",
      "[Parallel(n_jobs=-1)]: Done   2 out of   5 | elapsed:    5.5s remaining:    8.2s\n",
      "[Parallel(n_jobs=-1)]: Done   5 out of   5 | elapsed:    5.7s finished\n",
      "[Parallel(n_jobs=-1)]: Using backend LokyBackend with 8 concurrent workers.\n",
      "[Parallel(n_jobs=-1)]: Done   2 out of   5 | elapsed:    5.6s remaining:    8.4s\n",
      "[Parallel(n_jobs=-1)]: Done   5 out of   5 | elapsed:    5.7s finished\n",
      "[Parallel(n_jobs=-1)]: Using backend LokyBackend with 8 concurrent workers.\n",
      "[Parallel(n_jobs=-1)]: Done   2 out of   5 | elapsed:    6.0s remaining:    9.0s\n",
      "[Parallel(n_jobs=-1)]: Done   5 out of   5 | elapsed:    6.1s finished\n",
      "[Parallel(n_jobs=-1)]: Using backend LokyBackend with 8 concurrent workers.\n",
      "[Parallel(n_jobs=-1)]: Done   2 out of   5 | elapsed:    6.5s remaining:    9.8s\n",
      "[Parallel(n_jobs=-1)]: Done   5 out of   5 | elapsed:    6.6s finished\n",
      "[Parallel(n_jobs=-1)]: Using backend LokyBackend with 8 concurrent workers.\n",
      "[Parallel(n_jobs=-1)]: Done   2 out of   5 | elapsed:    6.0s remaining:    8.9s\n",
      "[Parallel(n_jobs=-1)]: Done   5 out of   5 | elapsed:    6.0s finished\n",
      "[Parallel(n_jobs=-1)]: Using backend LokyBackend with 8 concurrent workers.\n",
      "[Parallel(n_jobs=-1)]: Done   2 out of   5 | elapsed:    6.1s remaining:    9.2s\n",
      "[Parallel(n_jobs=-1)]: Done   5 out of   5 | elapsed:    6.3s finished\n",
      "[Parallel(n_jobs=-1)]: Using backend LokyBackend with 8 concurrent workers.\n",
      "[Parallel(n_jobs=-1)]: Done   2 out of   5 | elapsed:    6.9s remaining:   10.3s\n",
      "[Parallel(n_jobs=-1)]: Done   5 out of   5 | elapsed:    7.0s finished\n"
     ]
    },
    {
     "data": {
      "text/plain": [
       "[Text(0, 0, '1.00'),\n",
       " Text(1, 0, '12.00'),\n",
       " Text(2, 0, '23.00'),\n",
       " Text(3, 0, '34.00'),\n",
       " Text(4, 0, '45.00'),\n",
       " Text(5, 0, '56.00'),\n",
       " Text(6, 0, '67.00'),\n",
       " Text(7, 0, '78.00'),\n",
       " Text(8, 0, '89.00'),\n",
       " Text(9, 0, '100.00')]"
      ]
     },
     "execution_count": 45,
     "metadata": {},
     "output_type": "execute_result"
    },
    {
     "data": {
      "image/png": "[encoded data removed]",
      "text/plain": [
       "<Figure size 432x288 with 1 Axes>"
      ]
     },
     "metadata": {
      "needs_background": "light"
     },
     "output_type": "display_data"
    }
   ],
   "source": [
    "# KNN Classifier\n",
    "cv_results = []\n",
    "from sklearn.neighbors import KNeighborsClassifier\n",
    "space = np.linspace(1,100,10)\n",
    "for i in space:\n",
    "    cv_result = cross_validate(KNeighborsClassifier(n_neighbors=int(i)),X,Y,cv=5,scoring=rmse,n_jobs=-1,verbose=5)\n",
    "    cv_results.append(cv_result)\n",
    "y1 = [item['test_score'].mean() for item in cv_results]\n",
    "y1_e = [item['test_score'].std() for item in cv_results]\n",
    "ax1 = plt.subplot(1,1,1)\n",
    "ax1.plot(np.arange(len(space)),y1,marker='o',markersize=5)\n",
    "ax1.fill_between(np.arange(len(space)),[y1[i]-y1_e[i] for i in range(len(space))],[y1[i]+y1_e[i] for i in range(len(space))],alpha=0.2)\n",
    "ax1.set_xticks(np.arange(len(space)))\n",
    "ax1.set_xticklabels(['{0:.2f}'.format(i) for i in space])"
   ]
  },
  {
   "cell_type": "code",
   "execution_count": 49,
   "id": "7c6f6ec9",
   "metadata": {},
   "outputs": [
    {
     "data": {
      "text/plain": [
       "{'adaboost': {'validation': [0.5361302962877219,\n",
       "   0.5937632182873599,\n",
       "   0.5731677196975614,\n",
       "   0.5361175296199031,\n",
       "   0.5680365686944634],\n",
       "  'IEDB': [0.5, 0.5, 0.5, 0.5, 0.5]},\n",
       " 'ElasticNet': {'validation': [0.5705475027831011,\n",
       "   0.6468046618368356,\n",
       "   0.6903246977381691,\n",
       "   0.6567346248768509,\n",
       "   0.7829776144907724],\n",
       "  'IEDB': [0.5, 0.5, 0.5, 0.5, 0.5]},\n",
       " 'KNN': {'validation': [0.6121764779016774,\n",
       "   0.6080839670611528,\n",
       "   0.6533779971452747,\n",
       "   0.6705894776823489,\n",
       "   0.719993164730007],\n",
       "  'IEDB': [0.5, 0.5, 0.5, 0.5, 0.5]}}"
      ]
     },
     "execution_count": 49,
     "metadata": {},
     "output_type": "execute_result"
    }
   ],
   "source": [
    "estimator = KNeighborsClassifier(n_neighbors=1)\n",
    "holder['KNN'] = method(estimator = estimator)\n",
    "holder"
   ]
  },
  {
   "cell_type": "markdown",
   "id": "50968225",
   "metadata": {},
   "source": [
    "## random forest Classifier"
   ]
  },
  {
   "cell_type": "code",
   "execution_count": 51,
   "id": "7c8eb01f",
   "metadata": {},
   "outputs": [
    {
     "name": "stderr",
     "output_type": "stream",
     "text": [
      "[Parallel(n_jobs=-1)]: Using backend LokyBackend with 8 concurrent workers.\n",
      "[Parallel(n_jobs=-1)]: Done   3 out of   3 | elapsed:    8.1s remaining:    0.0s\n",
      "[Parallel(n_jobs=-1)]: Done   3 out of   3 | elapsed:    8.1s finished\n",
      "[Parallel(n_jobs=-1)]: Using backend LokyBackend with 8 concurrent workers.\n",
      "[Parallel(n_jobs=-1)]: Done   3 out of   3 | elapsed:    7.1s remaining:    0.0s\n",
      "[Parallel(n_jobs=-1)]: Done   3 out of   3 | elapsed:    7.1s finished\n",
      "[Parallel(n_jobs=-1)]: Using backend LokyBackend with 8 concurrent workers.\n",
      "[Parallel(n_jobs=-1)]: Done   3 out of   3 | elapsed:    6.9s remaining:    0.0s\n",
      "[Parallel(n_jobs=-1)]: Done   3 out of   3 | elapsed:    6.9s finished\n",
      "[Parallel(n_jobs=-1)]: Using backend LokyBackend with 8 concurrent workers.\n",
      "[Parallel(n_jobs=-1)]: Done   3 out of   3 | elapsed:    6.5s remaining:    0.0s\n",
      "[Parallel(n_jobs=-1)]: Done   3 out of   3 | elapsed:    6.5s finished\n",
      "[Parallel(n_jobs=-1)]: Using backend LokyBackend with 8 concurrent workers.\n",
      "[Parallel(n_jobs=-1)]: Done   3 out of   3 | elapsed:    6.2s remaining:    0.0s\n",
      "[Parallel(n_jobs=-1)]: Done   3 out of   3 | elapsed:    6.2s finished\n",
      "[Parallel(n_jobs=-1)]: Using backend LokyBackend with 8 concurrent workers.\n",
      "[Parallel(n_jobs=-1)]: Done   3 out of   3 | elapsed:    5.9s remaining:    0.0s\n",
      "[Parallel(n_jobs=-1)]: Done   3 out of   3 | elapsed:    5.9s finished\n",
      "[Parallel(n_jobs=-1)]: Using backend LokyBackend with 8 concurrent workers.\n",
      "[Parallel(n_jobs=-1)]: Done   3 out of   3 | elapsed:    5.7s remaining:    0.0s\n",
      "[Parallel(n_jobs=-1)]: Done   3 out of   3 | elapsed:    5.7s finished\n",
      "[Parallel(n_jobs=-1)]: Using backend LokyBackend with 8 concurrent workers.\n",
      "[Parallel(n_jobs=-1)]: Done   3 out of   3 | elapsed:    5.6s remaining:    0.0s\n",
      "[Parallel(n_jobs=-1)]: Done   3 out of   3 | elapsed:    5.6s finished\n",
      "[Parallel(n_jobs=-1)]: Using backend LokyBackend with 8 concurrent workers.\n",
      "[Parallel(n_jobs=-1)]: Done   3 out of   3 | elapsed:    5.4s remaining:    0.0s\n",
      "[Parallel(n_jobs=-1)]: Done   3 out of   3 | elapsed:    5.4s finished\n",
      "[Parallel(n_jobs=-1)]: Using backend LokyBackend with 8 concurrent workers.\n",
      "[Parallel(n_jobs=-1)]: Done   3 out of   3 | elapsed:    5.3s remaining:    0.0s\n",
      "[Parallel(n_jobs=-1)]: Done   3 out of   3 | elapsed:    5.3s finished\n",
      "[Parallel(n_jobs=-1)]: Using backend LokyBackend with 8 concurrent workers.\n",
      "[Parallel(n_jobs=-1)]: Done   3 out of   3 | elapsed:    5.2s remaining:    0.0s\n",
      "[Parallel(n_jobs=-1)]: Done   3 out of   3 | elapsed:    5.2s finished\n",
      "[Parallel(n_jobs=-1)]: Using backend LokyBackend with 8 concurrent workers.\n",
      "[Parallel(n_jobs=-1)]: Done   3 out of   3 | elapsed:    5.1s remaining:    0.0s\n",
      "[Parallel(n_jobs=-1)]: Done   3 out of   3 | elapsed:    5.1s finished\n",
      "[Parallel(n_jobs=-1)]: Using backend LokyBackend with 8 concurrent workers.\n",
      "[Parallel(n_jobs=-1)]: Done   3 out of   3 | elapsed:    5.0s remaining:    0.0s\n",
      "[Parallel(n_jobs=-1)]: Done   3 out of   3 | elapsed:    5.0s finished\n",
      "[Parallel(n_jobs=-1)]: Using backend LokyBackend with 8 concurrent workers.\n",
      "[Parallel(n_jobs=-1)]: Done   3 out of   3 | elapsed:    4.9s remaining:    0.0s\n",
      "[Parallel(n_jobs=-1)]: Done   3 out of   3 | elapsed:    4.9s finished\n",
      "[Parallel(n_jobs=-1)]: Using backend LokyBackend with 8 concurrent workers.\n",
      "[Parallel(n_jobs=-1)]: Done   3 out of   3 | elapsed:    5.2s remaining:    0.0s\n",
      "[Parallel(n_jobs=-1)]: Done   3 out of   3 | elapsed:    5.2s finished\n",
      "[Parallel(n_jobs=-1)]: Using backend LokyBackend with 8 concurrent workers.\n",
      "[Parallel(n_jobs=-1)]: Done   3 out of   3 | elapsed:    5.5s remaining:    0.0s\n",
      "[Parallel(n_jobs=-1)]: Done   3 out of   3 | elapsed:    5.5s finished\n",
      "[Parallel(n_jobs=-1)]: Using backend LokyBackend with 8 concurrent workers.\n",
      "[Parallel(n_jobs=-1)]: Done   3 out of   3 | elapsed:    5.1s remaining:    0.0s\n",
      "[Parallel(n_jobs=-1)]: Done   3 out of   3 | elapsed:    5.1s finished\n",
      "[Parallel(n_jobs=-1)]: Using backend LokyBackend with 8 concurrent workers.\n",
      "[Parallel(n_jobs=-1)]: Done   3 out of   3 | elapsed:    4.7s remaining:    0.0s\n",
      "[Parallel(n_jobs=-1)]: Done   3 out of   3 | elapsed:    4.7s finished\n",
      "[Parallel(n_jobs=-1)]: Using backend LokyBackend with 8 concurrent workers.\n",
      "[Parallel(n_jobs=-1)]: Done   3 out of   3 | elapsed:    4.6s remaining:    0.0s\n",
      "[Parallel(n_jobs=-1)]: Done   3 out of   3 | elapsed:    4.6s finished\n",
      "[Parallel(n_jobs=-1)]: Using backend LokyBackend with 8 concurrent workers.\n",
      "[Parallel(n_jobs=-1)]: Done   3 out of   3 | elapsed:    4.6s remaining:    0.0s\n",
      "[Parallel(n_jobs=-1)]: Done   3 out of   3 | elapsed:    4.6s finished\n"
     ]
    },
    {
     "data": {
      "text/plain": [
       "[Text(0, 0, '1.00'),\n",
       " Text(1, 0, '6.21'),\n",
       " Text(2, 0, '11.42'),\n",
       " Text(3, 0, '16.63'),\n",
       " Text(4, 0, '21.84'),\n",
       " Text(5, 0, '27.05'),\n",
       " Text(6, 0, '32.26'),\n",
       " Text(7, 0, '37.47'),\n",
       " Text(8, 0, '42.68'),\n",
       " Text(9, 0, '47.89'),\n",
       " Text(10, 0, '53.11'),\n",
       " Text(11, 0, '58.32'),\n",
       " Text(12, 0, '63.53'),\n",
       " Text(13, 0, '68.74'),\n",
       " Text(14, 0, '73.95'),\n",
       " Text(15, 0, '79.16'),\n",
       " Text(16, 0, '84.37'),\n",
       " Text(17, 0, '89.58'),\n",
       " Text(18, 0, '94.79'),\n",
       " Text(19, 0, '100.00')]"
      ]
     },
     "execution_count": 51,
     "metadata": {},
     "output_type": "execute_result"
    },
    {
     "data": {
      "image/png": "[encoded data removed]",
      "text/plain": [
       "<Figure size 432x288 with 1 Axes>"
      ]
     },
     "metadata": {
      "needs_background": "light"
     },
     "output_type": "display_data"
    }
   ],
   "source": [
    "# random forest regression\n",
    "cv_results = []\n",
    "from sklearn.ensemble import RandomForestClassifier\n",
    "space = np.linspace(1, 100, 20)\n",
    "for i in space:\n",
    "    cv_result = cross_validate(RandomForestClassifier(n_estimators=200,min_samples_leaf=int(i)), X, Y, cv=3, scoring=rmse, n_jobs=-1,\n",
    "                               verbose=5)\n",
    "    cv_results.append(cv_result)\n",
    "y1 = [item['test_score'].mean() for item in cv_results]\n",
    "y1_e = [item['test_score'].std() for item in cv_results]\n",
    "ax1 = plt.subplot(1, 1, 1)\n",
    "ax1.plot(np.arange(len(space)), y1, marker='o', markersize=5)\n",
    "ax1.fill_between(np.arange(len(space)), [y1[i] - y1_e[i] for i in range(len(space))],\n",
    "                 [y1[i] + y1_e[i] for i in range(len(space))], alpha=0.2)\n",
    "ax1.set_xticks(np.arange(len(space)))\n",
    "ax1.set_xticklabels(['{0:.2f}'.format(i) for i in space])"
   ]
  },
  {
   "cell_type": "code",
   "execution_count": 52,
   "id": "34323ff6",
   "metadata": {},
   "outputs": [],
   "source": [
    "estimator = RandomForestClassifier(n_estimators=200,min_samples_leaf=1)\n",
    "holder['RF'] = method(estimator = estimator)"
   ]
  },
  {
   "cell_type": "markdown",
   "id": "ad4a9cbd",
   "metadata": {},
   "source": [
    "## SVC"
   ]
  },
  {
   "cell_type": "code",
   "execution_count": 54,
   "id": "f6835b4c",
   "metadata": {},
   "outputs": [
    {
     "name": "stderr",
     "output_type": "stream",
     "text": [
      "[Parallel(n_jobs=-1)]: Using backend LokyBackend with 8 concurrent workers.\n",
      "[Parallel(n_jobs=-1)]: Done   3 out of   3 | elapsed:    4.2s remaining:    0.0s\n",
      "[Parallel(n_jobs=-1)]: Done   3 out of   3 | elapsed:    4.2s finished\n",
      "[Parallel(n_jobs=-1)]: Using backend LokyBackend with 8 concurrent workers.\n",
      "/Users/wangguangshuai/miniforge3/lib/python3.9/site-packages/sklearn/svm/_base.py:1206: ConvergenceWarning: Liblinear failed to converge, increase the number of iterations.\n",
      "  warnings.warn(\n",
      "/Users/wangguangshuai/miniforge3/lib/python3.9/site-packages/sklearn/svm/_base.py:1206: ConvergenceWarning: Liblinear failed to converge, increase the number of iterations.\n",
      "  warnings.warn(\n",
      "/Users/wangguangshuai/miniforge3/lib/python3.9/site-packages/sklearn/svm/_base.py:1206: ConvergenceWarning: Liblinear failed to converge, increase the number of iterations.\n",
      "  warnings.warn(\n",
      "[Parallel(n_jobs=-1)]: Done   3 out of   3 | elapsed:   22.6s remaining:    0.0s\n",
      "[Parallel(n_jobs=-1)]: Done   3 out of   3 | elapsed:   22.6s finished\n",
      "[Parallel(n_jobs=-1)]: Using backend LokyBackend with 8 concurrent workers.\n",
      "/Users/wangguangshuai/miniforge3/lib/python3.9/site-packages/sklearn/svm/_base.py:1206: ConvergenceWarning: Liblinear failed to converge, increase the number of iterations.\n",
      "  warnings.warn(\n",
      "/Users/wangguangshuai/miniforge3/lib/python3.9/site-packages/sklearn/svm/_base.py:1206: ConvergenceWarning: Liblinear failed to converge, increase the number of iterations.\n",
      "  warnings.warn(\n",
      "/Users/wangguangshuai/miniforge3/lib/python3.9/site-packages/sklearn/svm/_base.py:1206: ConvergenceWarning: Liblinear failed to converge, increase the number of iterations.\n",
      "  warnings.warn(\n",
      "[Parallel(n_jobs=-1)]: Done   3 out of   3 | elapsed:   24.6s remaining:    0.0s\n",
      "[Parallel(n_jobs=-1)]: Done   3 out of   3 | elapsed:   24.6s finished\n",
      "[Parallel(n_jobs=-1)]: Using backend LokyBackend with 8 concurrent workers.\n",
      "/Users/wangguangshuai/miniforge3/lib/python3.9/site-packages/sklearn/svm/_base.py:1206: ConvergenceWarning: Liblinear failed to converge, increase the number of iterations.\n",
      "  warnings.warn(\n",
      "/Users/wangguangshuai/miniforge3/lib/python3.9/site-packages/sklearn/svm/_base.py:1206: ConvergenceWarning: Liblinear failed to converge, increase the number of iterations.\n",
      "  warnings.warn(\n",
      "/Users/wangguangshuai/miniforge3/lib/python3.9/site-packages/sklearn/svm/_base.py:1206: ConvergenceWarning: Liblinear failed to converge, increase the number of iterations.\n",
      "  warnings.warn(\n",
      "[Parallel(n_jobs=-1)]: Done   3 out of   3 | elapsed:   24.6s remaining:    0.0s\n",
      "[Parallel(n_jobs=-1)]: Done   3 out of   3 | elapsed:   24.6s finished\n",
      "[Parallel(n_jobs=-1)]: Using backend LokyBackend with 8 concurrent workers.\n",
      "/Users/wangguangshuai/miniforge3/lib/python3.9/site-packages/sklearn/svm/_base.py:1206: ConvergenceWarning: Liblinear failed to converge, increase the number of iterations.\n",
      "  warnings.warn(\n",
      "/Users/wangguangshuai/miniforge3/lib/python3.9/site-packages/sklearn/svm/_base.py:1206: ConvergenceWarning: Liblinear failed to converge, increase the number of iterations.\n",
      "  warnings.warn(\n",
      "/Users/wangguangshuai/miniforge3/lib/python3.9/site-packages/sklearn/svm/_base.py:1206: ConvergenceWarning: Liblinear failed to converge, increase the number of iterations.\n",
      "  warnings.warn(\n",
      "[Parallel(n_jobs=-1)]: Done   3 out of   3 | elapsed:   24.7s remaining:    0.0s\n",
      "[Parallel(n_jobs=-1)]: Done   3 out of   3 | elapsed:   24.7s finished\n",
      "[Parallel(n_jobs=-1)]: Using backend LokyBackend with 8 concurrent workers.\n",
      "/Users/wangguangshuai/miniforge3/lib/python3.9/site-packages/sklearn/svm/_base.py:1206: ConvergenceWarning: Liblinear failed to converge, increase the number of iterations.\n",
      "  warnings.warn(\n",
      "/Users/wangguangshuai/miniforge3/lib/python3.9/site-packages/sklearn/svm/_base.py:1206: ConvergenceWarning: Liblinear failed to converge, increase the number of iterations.\n",
      "  warnings.warn(\n",
      "/Users/wangguangshuai/miniforge3/lib/python3.9/site-packages/sklearn/svm/_base.py:1206: ConvergenceWarning: Liblinear failed to converge, increase the number of iterations.\n",
      "  warnings.warn(\n",
      "[Parallel(n_jobs=-1)]: Done   3 out of   3 | elapsed:   24.8s remaining:    0.0s\n",
      "[Parallel(n_jobs=-1)]: Done   3 out of   3 | elapsed:   24.8s finished\n",
      "[Parallel(n_jobs=-1)]: Using backend LokyBackend with 8 concurrent workers.\n",
      "/Users/wangguangshuai/miniforge3/lib/python3.9/site-packages/sklearn/svm/_base.py:1206: ConvergenceWarning: Liblinear failed to converge, increase the number of iterations.\n",
      "  warnings.warn(\n",
      "/Users/wangguangshuai/miniforge3/lib/python3.9/site-packages/sklearn/svm/_base.py:1206: ConvergenceWarning: Liblinear failed to converge, increase the number of iterations.\n",
      "  warnings.warn(\n",
      "/Users/wangguangshuai/miniforge3/lib/python3.9/site-packages/sklearn/svm/_base.py:1206: ConvergenceWarning: Liblinear failed to converge, increase the number of iterations.\n",
      "  warnings.warn(\n",
      "[Parallel(n_jobs=-1)]: Done   3 out of   3 | elapsed:   24.6s remaining:    0.0s\n",
      "[Parallel(n_jobs=-1)]: Done   3 out of   3 | elapsed:   24.6s finished\n"
     ]
    },
    {
     "data": {
      "text/plain": [
       "[Text(0, 0, '0.00'),\n",
       " Text(1, 0, '0.01'),\n",
       " Text(2, 0, '0.10'),\n",
       " Text(3, 0, '1.00'),\n",
       " Text(4, 0, '10.00'),\n",
       " Text(5, 0, '100.00'),\n",
       " Text(6, 0, '1000.00')]"
      ]
     },
     "execution_count": 54,
     "metadata": {},
     "output_type": "execute_result"
    },
    {
     "data": {
      "image/png": "[encoded data removed]",
      "text/plain": [
       "<Figure size 432x288 with 1 Axes>"
      ]
     },
     "metadata": {
      "needs_background": "light"
     },
     "output_type": "display_data"
    }
   ],
   "source": [
    "cv_results = []\n",
    "from sklearn.svm import LinearSVC\n",
    "space = np.logspace(-3, 3, 7)\n",
    "for i in space:\n",
    "    cv_result = cross_validate(LinearSVC(C=i), X, Y, cv=3, scoring=rmse, n_jobs=-1,\n",
    "                               verbose=5)\n",
    "    cv_results.append(cv_result)\n",
    "y1 = [item['test_score'].mean() for item in cv_results]\n",
    "y1_e = [item['test_score'].std() for item in cv_results]\n",
    "ax1 = plt.subplot(1, 1, 1)\n",
    "ax1.plot(np.arange(len(space)), y1, marker='o', markersize=5)\n",
    "ax1.fill_between(np.arange(len(space)), [y1[i] - y1_e[i] for i in range(len(space))],\n",
    "                 [y1[i] + y1_e[i] for i in range(len(space))], alpha=0.2)\n",
    "ax1.set_xticks(np.arange(len(space)))\n",
    "ax1.set_xticklabels(['{0:.2f}'.format(i) for i in space])"
   ]
  },
  {
   "cell_type": "code",
   "execution_count": 55,
   "id": "faef8b78",
   "metadata": {},
   "outputs": [
    {
     "name": "stderr",
     "output_type": "stream",
     "text": [
      "/Users/wangguangshuai/miniforge3/lib/python3.9/site-packages/sklearn/svm/_base.py:1206: ConvergenceWarning: Liblinear failed to converge, increase the number of iterations.\n",
      "  warnings.warn(\n",
      "/Users/wangguangshuai/miniforge3/lib/python3.9/site-packages/sklearn/svm/_base.py:1206: ConvergenceWarning: Liblinear failed to converge, increase the number of iterations.\n",
      "  warnings.warn(\n",
      "/Users/wangguangshuai/miniforge3/lib/python3.9/site-packages/sklearn/svm/_base.py:1206: ConvergenceWarning: Liblinear failed to converge, increase the number of iterations.\n",
      "  warnings.warn(\n",
      "/Users/wangguangshuai/miniforge3/lib/python3.9/site-packages/sklearn/svm/_base.py:1206: ConvergenceWarning: Liblinear failed to converge, increase the number of iterations.\n",
      "  warnings.warn(\n",
      "/Users/wangguangshuai/miniforge3/lib/python3.9/site-packages/sklearn/svm/_base.py:1206: ConvergenceWarning: Liblinear failed to converge, increase the number of iterations.\n",
      "  warnings.warn(\n"
     ]
    }
   ],
   "source": [
    "estimator = LinearSVC(C=0.01)\n",
    "holder['SVM'] = method(estimator = estimator)"
   ]
  },
  {
   "cell_type": "code",
   "execution_count": 56,
   "id": "c7b67b61",
   "metadata": {},
   "outputs": [
    {
     "data": {
      "text/plain": [
       "{'adaboost': {'validation': [0.5361302962877219,\n",
       "   0.5937632182873599,\n",
       "   0.5731677196975614,\n",
       "   0.5361175296199031,\n",
       "   0.5680365686944634],\n",
       "  'IEDB': [0.5, 0.5, 0.5, 0.5, 0.5]},\n",
       " 'ElasticNet': {'validation': [0.5705475027831011,\n",
       "   0.6468046618368356,\n",
       "   0.6903246977381691,\n",
       "   0.6567346248768509,\n",
       "   0.7829776144907724],\n",
       "  'IEDB': [0.5, 0.5, 0.5, 0.5, 0.5]},\n",
       " 'KNN': {'validation': [0.6121764779016774,\n",
       "   0.6080839670611528,\n",
       "   0.6533779971452747,\n",
       "   0.6705894776823489,\n",
       "   0.719993164730007],\n",
       "  'IEDB': [0.5, 0.5, 0.5, 0.5, 0.5]},\n",
       " 'RF': {'validation': [0.5924275357658851,\n",
       "   0.6154997075102371,\n",
       "   0.6190012912155886,\n",
       "   0.5919328434455086,\n",
       "   0.6735987696514012],\n",
       "  'IEDB': [0.5, 0.5, 0.5, 0.5, 0.5]},\n",
       " 'SVM': {'validation': [0.4945424067428929,\n",
       "   0.6038563650272241,\n",
       "   0.5940043348886975,\n",
       "   0.5299221536406308,\n",
       "   0.549137047163363],\n",
       "  'IEDB': [0.5, 0.5, 0.5, 0.5, 0.5]}}"
      ]
     },
     "execution_count": 56,
     "metadata": {},
     "output_type": "execute_result"
    }
   ],
   "source": [
    "holder"
   ]
  },
  {
   "cell_type": "code",
   "execution_count": null,
   "id": "1dd908e9",
   "metadata": {},
   "outputs": [],
   "source": []
  }
 ],
 "metadata": {
  "kernelspec": {
   "display_name": "Python 3 (ipykernel)",
   "language": "python",
   "name": "python3"
  },
  "language_info": {
   "codemirror_mode": {
    "name": "ipython",
    "version": 3
   },
   "file_extension": ".py",
   "mimetype": "text/x-python",
   "name": "python",
   "nbconvert_exporter": "python",
   "pygments_lexer": "ipython3",
   "version": "3.9.4"
  },
  "toc": {
   "base_numbering": 1,
   "nav_menu": {},
   "number_sections": true,
   "sideBar": true,
   "skip_h1_title": false,
   "title_cell": "Table of Contents",
   "title_sidebar": "Contents",
   "toc_cell": false,
   "toc_position": {},
   "toc_section_display": true,
   "toc_window_display": false
  },
  "varInspector": {
   "cols": {
    "lenName": 16,
    "lenType": 16,
    "lenVar": 40
   },
   "kernels_config": {
    "python": {
     "delete_cmd_postfix": "",
     "delete_cmd_prefix": "del ",
     "library": "var_list.py",
     "varRefreshCmd": "print(var_dic_list())"
    },
    "r": {
     "delete_cmd_postfix": ") ",
     "delete_cmd_prefix": "rm(",
     "library": "var_list.r",
     "varRefreshCmd": "cat(var_dic_list()) "
    }
   },
   "types_to_exclude": [
    "module",
    "function",
    "builtin_function_or_method",
    "instance",
    "_Feature"
   ],
   "window_display": false
  }
 },
 "nbformat": 4,
 "nbformat_minor": 5
}
